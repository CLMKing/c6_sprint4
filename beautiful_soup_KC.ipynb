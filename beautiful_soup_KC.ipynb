{
 "cells": [
  {
   "cell_type": "code",
   "execution_count": 1413,
   "metadata": {},
   "outputs": [],
   "source": [
    "import pandas as pd\n",
    "import numpy as np \n",
    "import requests\n",
    "from bs4 import BeautifulSoup"
   ]
  },
  {
   "cell_type": "markdown",
   "metadata": {},
   "source": [
    "# Sample page 1"
   ]
  },
  {
   "cell_type": "markdown",
   "metadata": {},
   "source": [
    "### Dummy e-commerce website"
   ]
  },
  {
   "cell_type": "code",
   "execution_count": 1414,
   "metadata": {},
   "outputs": [],
   "source": [
    "em_url = \"https://webscraper.io/test-sites/e-commerce/allinone/computers/laptops\""
   ]
  },
  {
   "cell_type": "code",
   "execution_count": 1415,
   "metadata": {},
   "outputs": [],
   "source": [
    "res = requests.get(em_url, headers = {'User-Agent':'Mozilla/5.0 (X11; Linux)'})"
   ]
  },
  {
   "cell_type": "code",
   "execution_count": 1416,
   "metadata": {},
   "outputs": [],
   "source": [
    "src = res.content"
   ]
  },
  {
   "cell_type": "code",
   "execution_count": 1417,
   "metadata": {},
   "outputs": [],
   "source": [
    "soup = BeautifulSoup(src, 'lxml')"
   ]
  },
  {
   "cell_type": "markdown",
   "metadata": {},
   "source": [
    "### Getting the item name"
   ]
  },
  {
   "cell_type": "code",
   "execution_count": 1418,
   "metadata": {},
   "outputs": [],
   "source": [
    "a_tag = soup.find_all('h4')"
   ]
  },
  {
   "cell_type": "code",
   "execution_count": 1419,
   "metadata": {},
   "outputs": [],
   "source": [
    "urls = []\n",
    "for a in a_tag:\n",
    "    a_tag = a.find('a')\n",
    "    if a_tag is not None:\n",
    "        urls.append(a_tag.attrs['href'])"
   ]
  },
  {
   "cell_type": "code",
   "execution_count": 1420,
   "metadata": {},
   "outputs": [
    {
     "name": "stdout",
     "output_type": "stream",
     "text": [
      "/test-sites/e-commerce/allinone/product/554\n"
     ]
    }
   ],
   "source": [
    "print(urls[10])"
   ]
  },
  {
   "cell_type": "markdown",
   "metadata": {},
   "source": [
    "### Using p tags; Item description"
   ]
  },
  {
   "cell_type": "code",
   "execution_count": 1421,
   "metadata": {},
   "outputs": [],
   "source": [
    "p_tag = soup.find_all('p', {'class':'description'})"
   ]
  },
  {
   "cell_type": "code",
   "execution_count": 1422,
   "metadata": {},
   "outputs": [],
   "source": [
    "desc = []"
   ]
  },
  {
   "cell_type": "code",
   "execution_count": 1423,
   "metadata": {},
   "outputs": [],
   "source": [
    "for p in p_tag:\n",
    "    p_t = p.get_text()\n",
    "    desc.append(p_t)"
   ]
  },
  {
   "cell_type": "code",
   "execution_count": 1424,
   "metadata": {},
   "outputs": [
    {
     "name": "stdout",
     "output_type": "stream",
     "text": [
      "['Asus VivoBook X441NA-GA190 Chocolate Black, 14\", Celeron N3450, 4GB, 128GB SSD, Endless OS, ENG kbd', 'Prestigio SmartBook 133S Dark Grey, 13.3\" FHD IPS, Celeron N3350 1.1GHz, 4GB, 32GB, Windows 10 Pro + Office 365 1 gadam', 'Prestigio SmartBook 133S Gold, 13.3\" FHD IPS, Celeron N3350 1.1GHz, 4GB, 32GB, Windows 10 Pro + Office 365 1 gadam', '15.6\", Pentium N3520 2.16GHz, 4GB, 500GB, Linux', 'Lenovo V110-15IAP, 15.6\" HD, Celeron N3350 1.1GHz, 4GB, 128GB SSD, Windows 10 Home', 'Asus VivoBook 15 X540NA-GQ008T Chocolate Black, 15.6\" HD, Pentium N4200, 4GB, 500GB, Windows 10 Home, En kbd', 'Hewlett Packard 250 G6 Dark Ash Silver, 15.6\" HD, Celeron N3060 1.6GHz, 4GB, 128GB SSD, DOS', 'Acer Aspire 3 A315-31 Black, 15.6\" HD, Celeron N3350 1.1GHz, 4GB, 128GB SSD, Windows 10 Home', 'Acer Aspire A315-31-C33J Black 15.6\", HD, Celeron N3350, 4GB DDR3L, 128GB, Windows 10 Home, ENG', 'Acer Aspire ES1-572 Black, 15.6\" HD, Core i3-6006U, 4GB, 128GB SSD, Linux']\n"
     ]
    }
   ],
   "source": [
    "# getting the first 10 items\n",
    "print(desc[:10])"
   ]
  },
  {
   "cell_type": "code",
   "execution_count": 1425,
   "metadata": {},
   "outputs": [],
   "source": [
    "### Getting only the price"
   ]
  },
  {
   "cell_type": "code",
   "execution_count": 1426,
   "metadata": {},
   "outputs": [],
   "source": [
    "a_tag = soup.find_all('h4', {'class':'pull-right price'})"
   ]
  },
  {
   "cell_type": "code",
   "execution_count": 1427,
   "metadata": {},
   "outputs": [],
   "source": [
    "price_list = []"
   ]
  },
  {
   "cell_type": "code",
   "execution_count": 1428,
   "metadata": {},
   "outputs": [],
   "source": [
    "for bx in a_tag:\n",
    "    #price_list.append(a_tag.get_text())\n",
    "    price_list.append(bx.get_text().replace('$',''))"
   ]
  },
  {
   "cell_type": "code",
   "execution_count": 1429,
   "metadata": {},
   "outputs": [
    {
     "data": {
      "text/plain": [
       "['295.99',\n",
       " '299.00',\n",
       " '299.00',\n",
       " '306.99',\n",
       " '321.94',\n",
       " '356.49',\n",
       " '364.46',\n",
       " '372.70',\n",
       " '379.94',\n",
       " '379.95']"
      ]
     },
     "execution_count": 1429,
     "metadata": {},
     "output_type": "execute_result"
    }
   ],
   "source": [
    "# first 10 prices\n",
    "price_list[:10]"
   ]
  },
  {
   "cell_type": "markdown",
   "metadata": {},
   "source": [
    "# Sample page 2"
   ]
  },
  {
   "cell_type": "code",
   "execution_count": 1430,
   "metadata": {},
   "outputs": [],
   "source": [
    "# getting all the article title one page\n",
    "base = \"https://albertyumol.github.io/\""
   ]
  },
  {
   "cell_type": "code",
   "execution_count": 1431,
   "metadata": {},
   "outputs": [],
   "source": [
    "artcl_list = []"
   ]
  },
  {
   "cell_type": "code",
   "execution_count": 1432,
   "metadata": {},
   "outputs": [],
   "source": [
    "h2_tag_ = soup.find_all('h2')"
   ]
  },
  {
   "cell_type": "code",
   "execution_count": 1433,
   "metadata": {},
   "outputs": [
    {
     "name": "stdout",
     "output_type": "stream",
     "text": [
      "[]\n"
     ]
    }
   ],
   "source": [
    "for x in h2_tag_:\n",
    "    artcl_list.append(x.get_text().replace('\\n',''))\n",
    "\n",
    "print(artcl_list)"
   ]
  },
  {
   "cell_type": "code",
   "execution_count": 1434,
   "metadata": {},
   "outputs": [],
   "source": [
    "# scraping all the articles on every page"
   ]
  },
  {
   "cell_type": "code",
   "execution_count": 1435,
   "metadata": {},
   "outputs": [],
   "source": [
    "base = \"https://albertyumol.github.io/\"\n",
    "pg_lst = ['2','3','4'] \n",
    "a_list = []"
   ]
  },
  {
   "cell_type": "code",
   "execution_count": 1436,
   "metadata": {},
   "outputs": [
    {
     "name": "stdout",
     "output_type": "stream",
     "text": [
      "['[Developing] Basic Statistics Review for Data Science', 'Tutorial: Animating heatmap overlay-ed into Philippine map.', 'Tutorial: Animating Time Series in Python', 'Activism via Machine Learning: Modified Hidden Markov Model to forecast protest activities', '‘open’ laptop anyone?', 'OPINION: On 2019 Election Transparency Woes', 'Selective Colorization in GIMP - A Tutorial', 'Lessons from my physics degree that have nothing to do with physics', 'On the Jeepney Modernization Program', 'Properties and Applications of the 2D Fourier Transform', 'Fourier Transform Model of Image Formation', 'Length and Area Estimation in Images']\n"
     ]
    }
   ],
   "source": [
    "for pg in pg_lst:\n",
    "    base_url_ = base + f\"page{pg}/\" + \"index.html\"\n",
    "    \n",
    "    reqs = requests.get(base_url_, headers = {'User-Agent':'Mozilla/5.0 (X11; Linux)'})\n",
    "    soup = BeautifulSoup(reqs.content, 'lxml')\n",
    "    tag_ = soup.find_all('h2')\n",
    "    \n",
    "    for ax in tag_:\n",
    "        a_list.append(ax.get_text().replace('\\n',''))\n",
    "\n",
    "print(a_list)"
   ]
  },
  {
   "cell_type": "code",
   "execution_count": 1437,
   "metadata": {},
   "outputs": [
    {
     "data": {
      "text/plain": [
       "[]"
      ]
     },
     "execution_count": 1437,
     "metadata": {},
     "output_type": "execute_result"
    }
   ],
   "source": [
    "artcl_list"
   ]
  },
  {
   "cell_type": "code",
   "execution_count": 1438,
   "metadata": {},
   "outputs": [],
   "source": [
    "# number of articles\n",
    "final = set(artcl_list +  a_list)"
   ]
  },
  {
   "cell_type": "code",
   "execution_count": 1439,
   "metadata": {},
   "outputs": [
    {
     "name": "stdout",
     "output_type": "stream",
     "text": [
      "{'Lessons from my physics degree that have nothing to do with physics', 'Selective Colorization in GIMP - A Tutorial', 'On the Jeepney Modernization Program', 'Properties and Applications of the 2D Fourier Transform', 'Fourier Transform Model of Image Formation', 'Length and Area Estimation in Images', 'Tutorial: Animating heatmap overlay-ed into Philippine map.', '‘open’ laptop anyone?', 'OPINION: On 2019 Election Transparency Woes', 'Tutorial: Animating Time Series in Python', '[Developing] Basic Statistics Review for Data Science', 'Activism via Machine Learning: Modified Hidden Markov Model to forecast protest activities'}\n"
     ]
    }
   ],
   "source": [
    "print(final)"
   ]
  },
  {
   "cell_type": "code",
   "execution_count": 1440,
   "metadata": {},
   "outputs": [
    {
     "data": {
      "text/plain": [
       "12"
      ]
     },
     "execution_count": 1440,
     "metadata": {},
     "output_type": "execute_result"
    }
   ],
   "source": [
    "len(final)"
   ]
  },
  {
   "cell_type": "markdown",
   "metadata": {},
   "source": [
    "# Sample page 3"
   ]
  },
  {
   "cell_type": "markdown",
   "metadata": {},
   "source": [
    "### Scraping articles and blogs"
   ]
  },
  {
   "cell_type": "code",
   "execution_count": 1441,
   "metadata": {},
   "outputs": [],
   "source": [
    "# getting all the url link for the articles: first page"
   ]
  },
  {
   "cell_type": "code",
   "execution_count": 1442,
   "metadata": {},
   "outputs": [],
   "source": [
    "url_list = []"
   ]
  },
  {
   "cell_type": "code",
   "execution_count": 1443,
   "metadata": {},
   "outputs": [],
   "source": [
    "urls = \"https://www.whitehouse.gov/briefing-room/\""
   ]
  },
  {
   "cell_type": "code",
   "execution_count": 1444,
   "metadata": {},
   "outputs": [],
   "source": [
    "reqs = requests.get(urls, headers = {'User-Agent':'Mozilla/5.0 (X11; Linux)'})"
   ]
  },
  {
   "cell_type": "code",
   "execution_count": 1445,
   "metadata": {},
   "outputs": [],
   "source": [
    "soup = BeautifulSoup(reqs.content, 'lxml')"
   ]
  },
  {
   "cell_type": "code",
   "execution_count": 1446,
   "metadata": {},
   "outputs": [],
   "source": [
    "a_tag = soup.find_all('a',{'class':'news-item__title acctext--con'})"
   ]
  },
  {
   "cell_type": "code",
   "execution_count": 1447,
   "metadata": {},
   "outputs": [],
   "source": [
    "# getting the links\n",
    "for x in a_tag:\n",
    "    url_list.append(x.attrs['href'])"
   ]
  },
  {
   "cell_type": "code",
   "execution_count": 1448,
   "metadata": {},
   "outputs": [
    {
     "name": "stdout",
     "output_type": "stream",
     "text": [
      "['https://www.whitehouse.gov/briefing-room/speeches-remarks/2021/03/02/statement-of-president-joe-biden-on-the-passing-of-vernon-jordan/', 'https://www.whitehouse.gov/briefing-room/statements-releases/2021/03/02/readout-of-the-white-houses-meeting-with-electric-vehicle-charging-infrastructure-leaders/', 'https://www.whitehouse.gov/briefing-room/statements-releases/2021/03/02/readout-of-vice-president-kamala-harris-call-with-prime-minister-scott-morrison-of-australia/', 'https://www.whitehouse.gov/briefing-room/statements-releases/2021/03/02/statement-by-president-joe-biden-and-nominee-for-director-of-the-office-of-management-neera-tanden/', 'https://www.whitehouse.gov/briefing-room/speeches-remarks/2021/03/02/remarks-by-president-biden-on-the-administrations-covid-19-vaccination-efforts/', 'https://www.whitehouse.gov/briefing-room/statements-releases/2021/03/02/readout-of-president-joseph-r-biden-jr-call-with-senate-democratic-caucus/', 'https://www.whitehouse.gov/briefing-room/press-briefings/2021/03/02/press-briefing-by-press-secretary-jen-psaki-march-2-2021/', 'https://www.whitehouse.gov/briefing-room/statements-releases/2021/03/02/statement-by-nsc-spokesperson-emily-horne-on-national-security-advisor-jake-sullivans-call-with-luigi-mattiolo-diplomatic-advisor-to-the-italian-prime-minister/', 'https://www.whitehouse.gov/briefing-room/statements-releases/2021/03/01/statement-by-nsc-spokesperson-emily-horne-on-national-security-advisor-jake-sullivans-call-with-national-security-advisor-suh-hoon-of-the-republic-of-korea/', 'https://www.whitehouse.gov/briefing-room/statements-releases/2021/03/01/u-s-mexico-joint-declaration/']\n"
     ]
    }
   ],
   "source": [
    "print(url_list)"
   ]
  },
  {
   "cell_type": "markdown",
   "metadata": {},
   "source": [
    "### Getting the article title"
   ]
  },
  {
   "cell_type": "code",
   "execution_count": 1449,
   "metadata": {},
   "outputs": [],
   "source": [
    "article_list = []"
   ]
  },
  {
   "cell_type": "code",
   "execution_count": 1450,
   "metadata": {},
   "outputs": [],
   "source": [
    "for x in a_tag:\n",
    "    article_list.append(x.get_text().replace('\\t','').replace('\\n',''))"
   ]
  },
  {
   "cell_type": "code",
   "execution_count": 1451,
   "metadata": {},
   "outputs": [
    {
     "name": "stdout",
     "output_type": "stream",
     "text": [
      "['Statement of President Joe Biden on the Passing of Vernon Jordan ', 'Readout of the White House’s Meeting with Electric Vehicle Charging Infrastructure Leaders ', 'Readout of Vice President Kamala Harris Call with Prime Minister Scott Morrison of Australia ', 'Statement by President Joe Biden and Nominee for Director of the Office of Management Neera Tanden ', 'Remarks by President Biden on the Administration’s COVID-19 Vaccination Efforts ', 'Readout of President Joseph R. Biden, Jr. Call with Senate Democratic Caucus ', 'Press Briefing by Press Secretary Jen Psaki, March 2, 2021 ', 'Statement by NSC Spokesperson Emily Horne on National Security Advisor Jake Sullivan’s Call with Luigi Mattiolo, Diplomatic Advisor to the Italian Prime Minister ', 'Statement by NSC Spokesperson Emily Horne on National Security Advisor Jake Sullivan’s Call with National Security Advisor Suh Hoon of the Republic of Korea ', 'U.S.-Mexico Joint Declaration']\n"
     ]
    }
   ],
   "source": [
    "print(article_list)"
   ]
  },
  {
   "cell_type": "markdown",
   "metadata": {},
   "source": [
    "### Getting all the article dates (date of publish)"
   ]
  },
  {
   "cell_type": "code",
   "execution_count": 1452,
   "metadata": {},
   "outputs": [],
   "source": [
    "date_list = []"
   ]
  },
  {
   "cell_type": "code",
   "execution_count": 1453,
   "metadata": {},
   "outputs": [],
   "source": [
    "t_tag = soup.find_all('time', {'class':'posted-on entry-date published updated'})"
   ]
  },
  {
   "cell_type": "code",
   "execution_count": 1454,
   "metadata": {},
   "outputs": [
    {
     "data": {
      "text/plain": [
       "{'March 01, 2021', 'March 02, 2021'}"
      ]
     },
     "execution_count": 1454,
     "metadata": {},
     "output_type": "execute_result"
    }
   ],
   "source": [
    "for y in t_tag:\n",
    "    date = y.get_text()\n",
    "    date_list.append(date)\n",
    "\n",
    "# getting only the distinct dates  \n",
    "set(date_list)"
   ]
  },
  {
   "cell_type": "markdown",
   "metadata": {},
   "source": [
    "### Getting only the year"
   ]
  },
  {
   "cell_type": "code",
   "execution_count": 1455,
   "metadata": {},
   "outputs": [],
   "source": [
    "year_list = []"
   ]
  },
  {
   "cell_type": "code",
   "execution_count": 1456,
   "metadata": {},
   "outputs": [],
   "source": [
    "urls = \"https://www.whitehouse.gov/briefing-room/\""
   ]
  },
  {
   "cell_type": "code",
   "execution_count": 1457,
   "metadata": {},
   "outputs": [],
   "source": [
    "reqs = requests.get(urls, headers = {'User-Agent':'Mozilla/5.0 (X11; Linux)'})"
   ]
  },
  {
   "cell_type": "code",
   "execution_count": 1458,
   "metadata": {},
   "outputs": [],
   "source": [
    "soup = BeautifulSoup(reqs.content, 'lxml')"
   ]
  },
  {
   "cell_type": "code",
   "execution_count": 1459,
   "metadata": {},
   "outputs": [],
   "source": [
    "t_tag = soup.find_all('time', {'class':'posted-on entry-date published updated'})"
   ]
  },
  {
   "cell_type": "code",
   "execution_count": 1460,
   "metadata": {},
   "outputs": [
    {
     "data": {
      "text/plain": [
       "{'2021'}"
      ]
     },
     "execution_count": 1460,
     "metadata": {},
     "output_type": "execute_result"
    }
   ],
   "source": [
    "for u in t_tag:\n",
    "    year = y.get_text().replace(',','').split(' ')[2]\n",
    "    year_list.append(year)\n",
    "\n",
    "set(year_list)"
   ]
  },
  {
   "cell_type": "code",
   "execution_count": null,
   "metadata": {},
   "outputs": [],
   "source": []
  }
 ],
 "metadata": {
  "kernelspec": {
   "display_name": "Python 3",
   "language": "python",
   "name": "python3"
  },
  "language_info": {
   "codemirror_mode": {
    "name": "ipython",
    "version": 3
   },
   "file_extension": ".py",
   "mimetype": "text/x-python",
   "name": "python",
   "nbconvert_exporter": "python",
   "pygments_lexer": "ipython3",
   "version": "3.8.5"
  }
 },
 "nbformat": 4,
 "nbformat_minor": 4
}
