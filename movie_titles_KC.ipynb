{
 "cells": [
  {
   "cell_type": "code",
   "execution_count": 477,
   "metadata": {},
   "outputs": [],
   "source": [
    "from bs4 import BeautifulSoup\n",
    "import requests\n",
    "import numpy as np\n",
    "import pandas as pd"
   ]
  },
  {
   "cell_type": "code",
   "execution_count": 478,
   "metadata": {},
   "outputs": [],
   "source": [
    "base_url = \"https://en.wikipedia.org/wiki/List_of_Philippine_films_of_the_2000s\""
   ]
  },
  {
   "cell_type": "code",
   "execution_count": 479,
   "metadata": {},
   "outputs": [],
   "source": [
    "src = requests.get(base_url, headers = {'User-Agent':'Mozilla/5.0 (X11; Linux)'})"
   ]
  },
  {
   "cell_type": "code",
   "execution_count": 480,
   "metadata": {},
   "outputs": [],
   "source": [
    "soup = BeautifulSoup(src.content, 'lxml')"
   ]
  },
  {
   "cell_type": "code",
   "execution_count": 481,
   "metadata": {},
   "outputs": [
    {
     "data": {
      "text/plain": [
       "10"
      ]
     },
     "execution_count": 481,
     "metadata": {},
     "output_type": "execute_result"
    }
   ],
   "source": [
    "tab_tag = soup.find_all('table', {'class':'wikitable'})\n",
    "len(tab_tag)"
   ]
  },
  {
   "cell_type": "code",
   "execution_count": 482,
   "metadata": {},
   "outputs": [],
   "source": [
    "lst = []"
   ]
  },
  {
   "cell_type": "code",
   "execution_count": 483,
   "metadata": {},
   "outputs": [],
   "source": [
    "df = pd.DataFrame()"
   ]
  },
  {
   "cell_type": "code",
   "execution_count": 484,
   "metadata": {},
   "outputs": [
    {
     "name": "stdout",
     "output_type": "stream",
     "text": [
      "[0 1 2 3 4 5 6 7 8 9]\n"
     ]
    }
   ],
   "source": [
    "count = np.arange(10)\n",
    "print(count)"
   ]
  },
  {
   "cell_type": "code",
   "execution_count": 485,
   "metadata": {},
   "outputs": [],
   "source": [
    "for i in count:\n",
    "    tab_ = pd.read_html(str(tab_tag[i]))\n",
    "    df_ = pd.DataFrame(tab_[0])\n",
    "    df = pd.concat([df, df_], axis = 0)"
   ]
  },
  {
   "cell_type": "code",
   "execution_count": 486,
   "metadata": {},
   "outputs": [],
   "source": [
    "movie_title = [x for x in df['Title']]"
   ]
  },
  {
   "cell_type": "code",
   "execution_count": 487,
   "metadata": {},
   "outputs": [],
   "source": [
    "movie_title.remove('2000')\n",
    "movie_title.remove('2001')\n",
    "movie_title.remove('2002')\n",
    "movie_title.remove('2003')\n",
    "movie_title.remove('2004')\n",
    "movie_title.remove('2005')\n",
    "movie_title.remove('2006')\n",
    "movie_title.remove('2007')\n",
    "movie_title.remove('2008')\n",
    "movie_title.remove('2009')"
   ]
  },
  {
   "cell_type": "code",
   "execution_count": 488,
   "metadata": {},
   "outputs": [],
   "source": [
    "# movie_title"
   ]
  },
  {
   "cell_type": "code",
   "execution_count": 489,
   "metadata": {},
   "outputs": [],
   "source": [
    "# 2010"
   ]
  },
  {
   "cell_type": "code",
   "execution_count": 490,
   "metadata": {},
   "outputs": [],
   "source": [
    "base_ten_url = \"https://en.wikipedia.org/wiki/List_of_Philippine_films_of_2010\""
   ]
  },
  {
   "cell_type": "code",
   "execution_count": 491,
   "metadata": {},
   "outputs": [],
   "source": [
    "src = requests.get(base_ten_url, headers = {'User-Agent':'Mozilla/5.0 (X11; Linux)'})"
   ]
  },
  {
   "cell_type": "code",
   "execution_count": 492,
   "metadata": {},
   "outputs": [],
   "source": [
    "soup = BeautifulSoup(src.content, 'lxml')"
   ]
  },
  {
   "cell_type": "code",
   "execution_count": 493,
   "metadata": {},
   "outputs": [],
   "source": [
    "tab_ten = soup.find_all('table', {'class':'wikitable'})"
   ]
  },
  {
   "cell_type": "code",
   "execution_count": 494,
   "metadata": {},
   "outputs": [],
   "source": [
    "df_ = pd.read_html(str(tab_ten[0]))\n",
    "df_ten = pd.DataFrame(df_[0])"
   ]
  },
  {
   "cell_type": "code",
   "execution_count": 495,
   "metadata": {},
   "outputs": [],
   "source": [
    "ten_list = [x for x in df_ten['Title']]\n",
    "movie_title = movie_title + ten_list"
   ]
  },
  {
   "cell_type": "code",
   "execution_count": 496,
   "metadata": {},
   "outputs": [
    {
     "data": {
      "text/plain": [
       "['Abandonada',\n",
       " 'Akin Ang Labang Ito',\n",
       " 'Anak',\n",
       " 'Ang Dalubhasa',\n",
       " 'Anghel Dela Guardia',\n",
       " 'Arayyy!',\n",
       " 'Baliktaran',\n",
       " 'Basta Tricycle Driver... Sweet Lover',\n",
       " 'Birthday Gift 2',\n",
       " 'Biyaheng Langit']"
      ]
     },
     "execution_count": 496,
     "metadata": {},
     "output_type": "execute_result"
    }
   ],
   "source": [
    "movie_title[:10]"
   ]
  },
  {
   "cell_type": "code",
   "execution_count": 497,
   "metadata": {},
   "outputs": [],
   "source": [
    "# 2011"
   ]
  },
  {
   "cell_type": "code",
   "execution_count": 498,
   "metadata": {},
   "outputs": [],
   "source": [
    "base_ele_url = \"https://en.wikipedia.org/wiki/List_of_Philippine_films_of_2011\""
   ]
  },
  {
   "cell_type": "code",
   "execution_count": 499,
   "metadata": {},
   "outputs": [],
   "source": [
    "src = requests.get(base_ele_url, headers = {'User-Agent':'Mozilla/5.0 (X11; Linux)'})"
   ]
  },
  {
   "cell_type": "code",
   "execution_count": 500,
   "metadata": {},
   "outputs": [],
   "source": [
    "soup = BeautifulSoup(src.content, 'lxml')"
   ]
  },
  {
   "cell_type": "code",
   "execution_count": 501,
   "metadata": {},
   "outputs": [],
   "source": [
    "tab_ele = soup.find_all('table', {'class':'wikitable'})"
   ]
  },
  {
   "cell_type": "code",
   "execution_count": 502,
   "metadata": {},
   "outputs": [],
   "source": [
    "df_ = pd.read_html(str(tab_ele[1]))\n",
    "df_ele = pd.DataFrame(df_[0])"
   ]
  },
  {
   "cell_type": "code",
   "execution_count": 503,
   "metadata": {},
   "outputs": [],
   "source": [
    "ele_list = [x for x in df_ele['Title']]\n",
    "movie_title = movie_title + ele_list"
   ]
  },
  {
   "cell_type": "code",
   "execution_count": 504,
   "metadata": {},
   "outputs": [
    {
     "data": {
      "text/plain": [
       "['Third World Happy',\n",
       " 'Tum: My Pledge of Love',\n",
       " 'Tween Academy: Class of 2012',\n",
       " 'Tumbok',\n",
       " 'Way Back Home',\n",
       " 'Wedding Tayo, Wedding Hindi',\n",
       " \"Who's That Girl\",\n",
       " \"Won't Last A Day Without You\",\n",
       " 'Yesterday, Today, Tomorrow',\n",
       " 'Zombadings 1: Patayin sa Shokot si Remington']"
      ]
     },
     "execution_count": 504,
     "metadata": {},
     "output_type": "execute_result"
    }
   ],
   "source": [
    "movie_title[-10:]"
   ]
  },
  {
   "cell_type": "code",
   "execution_count": 505,
   "metadata": {},
   "outputs": [],
   "source": [
    "# 2012"
   ]
  },
  {
   "cell_type": "code",
   "execution_count": 506,
   "metadata": {},
   "outputs": [],
   "source": [
    "base_twl_url = \"https://en.wikipedia.org/wiki/List_of_Philippine_films_of_2012\""
   ]
  },
  {
   "cell_type": "code",
   "execution_count": 507,
   "metadata": {},
   "outputs": [],
   "source": [
    "src = requests.get(base_twl_url, headers = {'User-Agent':'Mozilla/5.0 (X11; Linux)'})"
   ]
  },
  {
   "cell_type": "code",
   "execution_count": 508,
   "metadata": {},
   "outputs": [],
   "source": [
    "soup = BeautifulSoup(src.content, 'lxml')"
   ]
  },
  {
   "cell_type": "code",
   "execution_count": 509,
   "metadata": {},
   "outputs": [],
   "source": [
    "tab_twl = soup.find_all('table', {'class':'wikitable'})"
   ]
  },
  {
   "cell_type": "code",
   "execution_count": 510,
   "metadata": {},
   "outputs": [],
   "source": [
    "count_ = np.arange(1,5)"
   ]
  },
  {
   "cell_type": "code",
   "execution_count": 511,
   "metadata": {},
   "outputs": [],
   "source": [
    "df_s = pd.DataFrame()"
   ]
  },
  {
   "cell_type": "code",
   "execution_count": 512,
   "metadata": {},
   "outputs": [
    {
     "name": "stdout",
     "output_type": "stream",
     "text": [
      "[1 2 3 4]\n"
     ]
    }
   ],
   "source": [
    "print(count_)"
   ]
  },
  {
   "cell_type": "code",
   "execution_count": 513,
   "metadata": {},
   "outputs": [],
   "source": [
    "for i in count_:\n",
    "    tab_ = pd.read_html(str(tab_twl[i]))\n",
    "    df_ = pd.DataFrame(tab_[0])\n",
    "    #print(df_)\n",
    "    df_s = pd.concat([df_s, df_], axis = 0)"
   ]
  },
  {
   "cell_type": "code",
   "execution_count": 514,
   "metadata": {},
   "outputs": [],
   "source": [
    "twl_list = [x for x in df_s['Title']]"
   ]
  },
  {
   "cell_type": "code",
   "execution_count": 515,
   "metadata": {},
   "outputs": [],
   "source": [
    "movie_title += twl_list"
   ]
  },
  {
   "cell_type": "code",
   "execution_count": 516,
   "metadata": {},
   "outputs": [
    {
     "data": {
      "text/plain": [
       "['Flames of Love',\n",
       " 'MNL 143',\n",
       " 'Si Agimat, Si Enteng, at Si Ako',\n",
       " 'El Presidente',\n",
       " 'One More Try',\n",
       " 'Shake, Rattle & Roll 14',\n",
       " 'Sisterakas',\n",
       " 'Sosy Problems',\n",
       " 'The Strangers',\n",
       " 'Thy Womb']"
      ]
     },
     "execution_count": 516,
     "metadata": {},
     "output_type": "execute_result"
    }
   ],
   "source": [
    "movie_title[-10:]"
   ]
  },
  {
   "cell_type": "code",
   "execution_count": 517,
   "metadata": {},
   "outputs": [],
   "source": [
    "# 2013"
   ]
  },
  {
   "cell_type": "code",
   "execution_count": 518,
   "metadata": {},
   "outputs": [],
   "source": [
    "base_trt_url = \"https://en.wikipedia.org/wiki/List_of_Philippine_films_of_2013\""
   ]
  },
  {
   "cell_type": "code",
   "execution_count": 519,
   "metadata": {},
   "outputs": [],
   "source": [
    "src = requests.get(base_trt_url, headers = {'User-Agent':'Mozilla/5.0 (X11; Linux)'})"
   ]
  },
  {
   "cell_type": "code",
   "execution_count": 520,
   "metadata": {},
   "outputs": [],
   "source": [
    "soup = BeautifulSoup(src.content, 'lxml')"
   ]
  },
  {
   "cell_type": "code",
   "execution_count": 521,
   "metadata": {},
   "outputs": [],
   "source": [
    "tab_trt = soup.find_all('table', {'class':'wikitable'})"
   ]
  },
  {
   "cell_type": "code",
   "execution_count": 522,
   "metadata": {},
   "outputs": [],
   "source": [
    "count_ = np.arange(1,5)"
   ]
  },
  {
   "cell_type": "code",
   "execution_count": 523,
   "metadata": {},
   "outputs": [],
   "source": [
    "df_s = pd.DataFrame()"
   ]
  },
  {
   "cell_type": "code",
   "execution_count": 524,
   "metadata": {},
   "outputs": [
    {
     "name": "stdout",
     "output_type": "stream",
     "text": [
      "[1 2 3 4]\n"
     ]
    }
   ],
   "source": [
    "print(count_)"
   ]
  },
  {
   "cell_type": "code",
   "execution_count": 525,
   "metadata": {},
   "outputs": [],
   "source": [
    "for i in count_:\n",
    "    tab_ = pd.read_html(str(tab_trt[i]))\n",
    "    df_ = pd.DataFrame(tab_[0])\n",
    "    #print(df_)\n",
    "    df_s = pd.concat([df_s, df_], axis = 0)"
   ]
  },
  {
   "cell_type": "code",
   "execution_count": 526,
   "metadata": {},
   "outputs": [],
   "source": [
    "trt_list = [x for x in df_s['Title']]"
   ]
  },
  {
   "cell_type": "code",
   "execution_count": 527,
   "metadata": {},
   "outputs": [],
   "source": [
    "movie_title += trt_list"
   ]
  },
  {
   "cell_type": "code",
   "execution_count": 528,
   "metadata": {},
   "outputs": [
    {
     "data": {
      "text/plain": [
       "['How to Disappear Completely1',\n",
       " 'Boogie1',\n",
       " 'Girl, Boy, Bakla, Tomboy',\n",
       " 'My Little Bossings',\n",
       " 'Kimmy Dora: Ang Kiyemeng Prequel',\n",
       " 'Pagpag: Siyam na Buhay',\n",
       " '10,000 Hours',\n",
       " 'Pedro Calungsod: Batang Martir',\n",
       " 'Boy Golden: Shoot to Kill, the Arturo Porcuna Story',\n",
       " 'Kaleidoscope World']"
      ]
     },
     "execution_count": 528,
     "metadata": {},
     "output_type": "execute_result"
    }
   ],
   "source": [
    "movie_title[-10:]"
   ]
  },
  {
   "cell_type": "code",
   "execution_count": 529,
   "metadata": {},
   "outputs": [],
   "source": [
    "# 2014"
   ]
  },
  {
   "cell_type": "code",
   "execution_count": 530,
   "metadata": {},
   "outputs": [],
   "source": [
    "base_frt_url = \"https://en.wikipedia.org/wiki/List_of_Philippine_films_of_2014\""
   ]
  },
  {
   "cell_type": "code",
   "execution_count": 531,
   "metadata": {},
   "outputs": [],
   "source": [
    "src = requests.get(base_frt_url, headers = {'User-Agent':'Mozilla/5.0 (X11; Linux)'})"
   ]
  },
  {
   "cell_type": "code",
   "execution_count": 532,
   "metadata": {},
   "outputs": [],
   "source": [
    "soup = BeautifulSoup(src.content, 'lxml')"
   ]
  },
  {
   "cell_type": "code",
   "execution_count": 533,
   "metadata": {},
   "outputs": [],
   "source": [
    "tab_frt = soup.find_all('table', {'class':'wikitable'})"
   ]
  },
  {
   "cell_type": "code",
   "execution_count": 534,
   "metadata": {},
   "outputs": [],
   "source": [
    "count_ = np.arange(1,5)"
   ]
  },
  {
   "cell_type": "code",
   "execution_count": 535,
   "metadata": {},
   "outputs": [],
   "source": [
    "df_s = pd.DataFrame()"
   ]
  },
  {
   "cell_type": "code",
   "execution_count": 536,
   "metadata": {},
   "outputs": [
    {
     "name": "stdout",
     "output_type": "stream",
     "text": [
      "[1 2 3 4]\n"
     ]
    }
   ],
   "source": [
    "print(count_)"
   ]
  },
  {
   "cell_type": "code",
   "execution_count": 537,
   "metadata": {},
   "outputs": [],
   "source": [
    "for i in count_:\n",
    "    tab_ = pd.read_html(str(tab_frt[i]))\n",
    "    df_ = pd.DataFrame(tab_[0])\n",
    "    #print(df_)\n",
    "    df_s = pd.concat([df_s, df_], axis = 0)"
   ]
  },
  {
   "cell_type": "code",
   "execution_count": 538,
   "metadata": {},
   "outputs": [],
   "source": [
    "frt_list = [x for x in df_s['Title']]"
   ]
  },
  {
   "cell_type": "code",
   "execution_count": 539,
   "metadata": {},
   "outputs": [],
   "source": [
    "movie_title += frt_list"
   ]
  },
  {
   "cell_type": "code",
   "execution_count": 540,
   "metadata": {},
   "outputs": [
    {
     "data": {
      "text/plain": [
       "['Mulat',\n",
       " 'Gangster Lolo',\n",
       " 'Bonifacio: Ang Unang Pangulo',\n",
       " 'English Only, Please',\n",
       " 'Feng Shui 2',\n",
       " 'Kubot: The Aswang Chronicles 2',\n",
       " 'Magnum Muslim.357',\n",
       " 'My Big Bossing',\n",
       " 'The Amazing Praybeyt Benjamin',\n",
       " 'Shake, Rattle & Roll XV']"
      ]
     },
     "execution_count": 540,
     "metadata": {},
     "output_type": "execute_result"
    }
   ],
   "source": [
    "movie_title[-10:]"
   ]
  },
  {
   "cell_type": "code",
   "execution_count": 541,
   "metadata": {},
   "outputs": [],
   "source": [
    "# 2015"
   ]
  },
  {
   "cell_type": "code",
   "execution_count": 542,
   "metadata": {},
   "outputs": [],
   "source": [
    "base_frt_url = \"https://en.wikipedia.org/wiki/List_of_Philippine_films_of_2015\""
   ]
  },
  {
   "cell_type": "code",
   "execution_count": 543,
   "metadata": {},
   "outputs": [],
   "source": [
    "src = requests.get(base_frt_url, headers = {'User-Agent':'Mozilla/5.0 (X11; Linux)'})"
   ]
  },
  {
   "cell_type": "code",
   "execution_count": 544,
   "metadata": {},
   "outputs": [],
   "source": [
    "soup = BeautifulSoup(src.content, 'lxml')"
   ]
  },
  {
   "cell_type": "code",
   "execution_count": 545,
   "metadata": {},
   "outputs": [],
   "source": [
    "tab_ftn = soup.find_all('table', {'class':'wikitable'})"
   ]
  },
  {
   "cell_type": "code",
   "execution_count": 546,
   "metadata": {},
   "outputs": [],
   "source": [
    "count_ = np.arange(1,5)"
   ]
  },
  {
   "cell_type": "code",
   "execution_count": 547,
   "metadata": {},
   "outputs": [],
   "source": [
    "df_s = pd.DataFrame()"
   ]
  },
  {
   "cell_type": "code",
   "execution_count": 548,
   "metadata": {},
   "outputs": [
    {
     "name": "stdout",
     "output_type": "stream",
     "text": [
      "[1 2 3 4]\n"
     ]
    }
   ],
   "source": [
    "print(count_)"
   ]
  },
  {
   "cell_type": "code",
   "execution_count": 549,
   "metadata": {},
   "outputs": [],
   "source": [
    "for i in count_:\n",
    "    tab_ = pd.read_html(str(tab_ftn[i]))\n",
    "    df_ = pd.DataFrame(tab_[0])\n",
    "    #print(df_)\n",
    "    df_s = pd.concat([df_s, df_], axis = 0)"
   ]
  },
  {
   "cell_type": "code",
   "execution_count": 550,
   "metadata": {},
   "outputs": [],
   "source": [
    "ftn_list = [x for x in df_s['Title']]"
   ]
  },
  {
   "cell_type": "code",
   "execution_count": 551,
   "metadata": {},
   "outputs": [],
   "source": [
    "movie_title += ftn_list"
   ]
  },
  {
   "cell_type": "code",
   "execution_count": 552,
   "metadata": {},
   "outputs": [
    {
     "data": {
      "text/plain": [
       "['Toto',\n",
       " 'Turo-Turo',\n",
       " 'All You Need Is Pag-Ibig',\n",
       " 'Beauty and the Bestie',\n",
       " 'Buy Now, Die Later',\n",
       " 'Haunted Mansion',\n",
       " 'Honor Thy Father',\n",
       " 'My Bebe Love: #KiligPaMore',\n",
       " 'Nilalang',\n",
       " '#Walang Forever']"
      ]
     },
     "execution_count": 552,
     "metadata": {},
     "output_type": "execute_result"
    }
   ],
   "source": [
    "movie_title[-10:]"
   ]
  },
  {
   "cell_type": "code",
   "execution_count": 553,
   "metadata": {},
   "outputs": [],
   "source": [
    "# 2016"
   ]
  },
  {
   "cell_type": "code",
   "execution_count": 554,
   "metadata": {},
   "outputs": [],
   "source": [
    "base_frt_url = \"https://en.wikipedia.org/wiki/List_of_Philippine_films_of_2016\""
   ]
  },
  {
   "cell_type": "code",
   "execution_count": 555,
   "metadata": {},
   "outputs": [],
   "source": [
    "src = requests.get(base_frt_url, headers = {'User-Agent':'Mozilla/5.0 (X11; Linux)'})"
   ]
  },
  {
   "cell_type": "code",
   "execution_count": 556,
   "metadata": {},
   "outputs": [],
   "source": [
    "soup = BeautifulSoup(src.content, 'lxml')"
   ]
  },
  {
   "cell_type": "code",
   "execution_count": 557,
   "metadata": {},
   "outputs": [],
   "source": [
    "tab_sx = soup.find_all('table', {'class':'wikitable'})"
   ]
  },
  {
   "cell_type": "code",
   "execution_count": 558,
   "metadata": {},
   "outputs": [],
   "source": [
    "count_ = np.arange(1,5)"
   ]
  },
  {
   "cell_type": "code",
   "execution_count": 559,
   "metadata": {},
   "outputs": [],
   "source": [
    "df_s = pd.DataFrame()"
   ]
  },
  {
   "cell_type": "code",
   "execution_count": 560,
   "metadata": {},
   "outputs": [
    {
     "name": "stdout",
     "output_type": "stream",
     "text": [
      "[1 2 3 4]\n"
     ]
    }
   ],
   "source": [
    "print(count_)"
   ]
  },
  {
   "cell_type": "code",
   "execution_count": 561,
   "metadata": {},
   "outputs": [],
   "source": [
    "for i in count_:\n",
    "    tab_ = pd.read_html(str(tab_sx[i]))\n",
    "    df_ = pd.DataFrame(tab_[0])\n",
    "    #print(df_)\n",
    "    df_s = pd.concat([df_s, df_], axis = 0)"
   ]
  },
  {
   "cell_type": "code",
   "execution_count": 562,
   "metadata": {},
   "outputs": [],
   "source": [
    "sx_list = [x for x in df_s['Title']]"
   ]
  },
  {
   "cell_type": "code",
   "execution_count": 563,
   "metadata": {},
   "outputs": [],
   "source": [
    "movie_title += sx_list"
   ]
  },
  {
   "cell_type": "code",
   "execution_count": 564,
   "metadata": {},
   "outputs": [
    {
     "data": {
      "text/plain": [
       "['Enteng Kabisote 10 and the Abangers',\n",
       " 'Mano Po 7: Tsinoy',\n",
       " 'Ang Babae sa Septic Tank 2: #ForeverIsNotEnough',\n",
       " 'Die Beautiful',\n",
       " 'Kabisera',\n",
       " 'Oro',\n",
       " 'Saving Sally',\n",
       " 'Seklusyon',\n",
       " 'Sunday Beauty Queen',\n",
       " 'Vince & Kath & James']"
      ]
     },
     "execution_count": 564,
     "metadata": {},
     "output_type": "execute_result"
    }
   ],
   "source": [
    "movie_title[-10:]"
   ]
  },
  {
   "cell_type": "code",
   "execution_count": 565,
   "metadata": {},
   "outputs": [],
   "source": [
    "# 2017"
   ]
  },
  {
   "cell_type": "code",
   "execution_count": 566,
   "metadata": {},
   "outputs": [],
   "source": [
    "base_svt_url = \"https://en.wikipedia.org/wiki/List_of_Philippine_films_of_2017\""
   ]
  },
  {
   "cell_type": "code",
   "execution_count": 567,
   "metadata": {},
   "outputs": [],
   "source": [
    "src = requests.get(base_svt_url, headers = {'User-Agent':'Mozilla/5.0 (X11; Linux)'})"
   ]
  },
  {
   "cell_type": "code",
   "execution_count": 568,
   "metadata": {},
   "outputs": [],
   "source": [
    "soup = BeautifulSoup(src.content, 'lxml')"
   ]
  },
  {
   "cell_type": "code",
   "execution_count": 569,
   "metadata": {},
   "outputs": [],
   "source": [
    "tab_svt = soup.find_all('table', {'class':'wikitable'})"
   ]
  },
  {
   "cell_type": "code",
   "execution_count": 570,
   "metadata": {},
   "outputs": [],
   "source": [
    "count_ = np.arange(1,5)"
   ]
  },
  {
   "cell_type": "code",
   "execution_count": 571,
   "metadata": {},
   "outputs": [],
   "source": [
    "df_s = pd.DataFrame()"
   ]
  },
  {
   "cell_type": "code",
   "execution_count": 572,
   "metadata": {},
   "outputs": [
    {
     "name": "stdout",
     "output_type": "stream",
     "text": [
      "[1 2 3 4]\n"
     ]
    }
   ],
   "source": [
    "print(count_)"
   ]
  },
  {
   "cell_type": "code",
   "execution_count": 573,
   "metadata": {},
   "outputs": [],
   "source": [
    "for i in count_:\n",
    "    tab_ = pd.read_html(str(tab_svt[i]))\n",
    "    df_ = pd.DataFrame(tab_[0])\n",
    "    #print(df_)\n",
    "    df_s = pd.concat([df_s, df_], axis = 0)"
   ]
  },
  {
   "cell_type": "code",
   "execution_count": 574,
   "metadata": {},
   "outputs": [],
   "source": [
    "svt_list = [x for x in df_s['Title']]"
   ]
  },
  {
   "cell_type": "code",
   "execution_count": 575,
   "metadata": {},
   "outputs": [],
   "source": [
    "movie_title += svt_list"
   ]
  },
  {
   "cell_type": "code",
   "execution_count": 576,
   "metadata": {},
   "outputs": [
    {
     "data": {
      "text/plain": [
       "['Kamandag ng Droga',\n",
       " 'Smaller and Smaller Circles',\n",
       " 'All of You',\n",
       " 'Deadma Walking',\n",
       " 'Gandarrapiddo: The Revenger Squad',\n",
       " 'Haunted Forest',\n",
       " 'Ang Larawan',\n",
       " 'Meant to Beh',\n",
       " 'Ang Panday',\n",
       " 'Siargao']"
      ]
     },
     "execution_count": 576,
     "metadata": {},
     "output_type": "execute_result"
    }
   ],
   "source": [
    "movie_title[-10:]"
   ]
  },
  {
   "cell_type": "code",
   "execution_count": 577,
   "metadata": {},
   "outputs": [],
   "source": [
    "# 2018"
   ]
  },
  {
   "cell_type": "code",
   "execution_count": 578,
   "metadata": {},
   "outputs": [],
   "source": [
    "base_eth_url = \"https://en.wikipedia.org/wiki/List_of_Philippine_films_of_2018\""
   ]
  },
  {
   "cell_type": "code",
   "execution_count": 579,
   "metadata": {},
   "outputs": [],
   "source": [
    "src = requests.get(base_eth_url, headers = {'User-Agent':'Mozilla/5.0 (X11; Linux)'})"
   ]
  },
  {
   "cell_type": "code",
   "execution_count": 580,
   "metadata": {},
   "outputs": [],
   "source": [
    "soup = BeautifulSoup(src.content, 'lxml')"
   ]
  },
  {
   "cell_type": "code",
   "execution_count": 581,
   "metadata": {},
   "outputs": [],
   "source": [
    "tab_eth = soup.find_all('table', {'class':'wikitable'})"
   ]
  },
  {
   "cell_type": "code",
   "execution_count": 582,
   "metadata": {},
   "outputs": [],
   "source": [
    "count_ = np.arange(1,5)"
   ]
  },
  {
   "cell_type": "code",
   "execution_count": 583,
   "metadata": {},
   "outputs": [],
   "source": [
    "df_s = pd.DataFrame()"
   ]
  },
  {
   "cell_type": "code",
   "execution_count": 584,
   "metadata": {},
   "outputs": [
    {
     "name": "stdout",
     "output_type": "stream",
     "text": [
      "[1 2 3 4]\n"
     ]
    }
   ],
   "source": [
    "print(count_)"
   ]
  },
  {
   "cell_type": "code",
   "execution_count": 585,
   "metadata": {},
   "outputs": [],
   "source": [
    "for i in count_:\n",
    "    tab_ = pd.read_html(str(tab_eth[i]))\n",
    "    df_ = pd.DataFrame(tab_[0])\n",
    "    #print(df_)\n",
    "    df_s = pd.concat([df_s, df_], axis = 0)"
   ]
  },
  {
   "cell_type": "code",
   "execution_count": 586,
   "metadata": {},
   "outputs": [],
   "source": [
    "eth_list = [x for x in df_s['Title']]"
   ]
  },
  {
   "cell_type": "code",
   "execution_count": 587,
   "metadata": {},
   "outputs": [],
   "source": [
    "movie_title += eth_list"
   ]
  },
  {
   "cell_type": "code",
   "execution_count": 588,
   "metadata": {},
   "outputs": [
    {
     "data": {
      "text/plain": [
       "['Kahit Ayaw Mo Na',\n",
       " 'Everybody Loves Baby Wendy',\n",
       " 'Aurora',\n",
       " 'Fantastica: The Princesses, The Prince and The Perya',\n",
       " 'The Girl in the Orange Dress',\n",
       " 'Jack Em Popoy: The Puliscredibles',\n",
       " 'Mary, Marry Me',\n",
       " 'One Great Love',\n",
       " 'Otlum',\n",
       " \"Rainbow's Sunset\"]"
      ]
     },
     "execution_count": 588,
     "metadata": {},
     "output_type": "execute_result"
    }
   ],
   "source": [
    "movie_title[-10:]"
   ]
  },
  {
   "cell_type": "code",
   "execution_count": 589,
   "metadata": {},
   "outputs": [],
   "source": [
    "# 2019"
   ]
  },
  {
   "cell_type": "code",
   "execution_count": 590,
   "metadata": {},
   "outputs": [],
   "source": [
    "base_nth_url = \"https://en.wikipedia.org/wiki/List_of_Philippine_films_of_2019\""
   ]
  },
  {
   "cell_type": "code",
   "execution_count": 591,
   "metadata": {},
   "outputs": [],
   "source": [
    "src = requests.get(base_nth_url, headers = {'User-Agent':'Mozilla/5.0 (X11; Linux)'})"
   ]
  },
  {
   "cell_type": "code",
   "execution_count": 592,
   "metadata": {},
   "outputs": [],
   "source": [
    "soup = BeautifulSoup(src.content, 'lxml')"
   ]
  },
  {
   "cell_type": "code",
   "execution_count": 593,
   "metadata": {},
   "outputs": [],
   "source": [
    "tab_nth = soup.find_all('table', {'class':'wikitable'})"
   ]
  },
  {
   "cell_type": "code",
   "execution_count": 594,
   "metadata": {},
   "outputs": [],
   "source": [
    "count_ = np.arange(1,5)"
   ]
  },
  {
   "cell_type": "code",
   "execution_count": 595,
   "metadata": {},
   "outputs": [],
   "source": [
    "df_s = pd.DataFrame()"
   ]
  },
  {
   "cell_type": "code",
   "execution_count": 596,
   "metadata": {},
   "outputs": [
    {
     "name": "stdout",
     "output_type": "stream",
     "text": [
      "[1 2 3 4]\n"
     ]
    }
   ],
   "source": [
    "print(count_)"
   ]
  },
  {
   "cell_type": "code",
   "execution_count": 597,
   "metadata": {},
   "outputs": [],
   "source": [
    "for i in count_:\n",
    "    tab_ = pd.read_html(str(tab_nth[i]))\n",
    "    df_ = pd.DataFrame(tab_[0])\n",
    "    #print(df_)\n",
    "    df_s = pd.concat([df_s, df_], axis = 0)"
   ]
  },
  {
   "cell_type": "code",
   "execution_count": 598,
   "metadata": {},
   "outputs": [],
   "source": [
    "nth_list = [x for x in df_s['Title']]"
   ]
  },
  {
   "cell_type": "code",
   "execution_count": 599,
   "metadata": {},
   "outputs": [],
   "source": [
    "movie_title += nth_list"
   ]
  },
  {
   "cell_type": "code",
   "execution_count": 600,
   "metadata": {},
   "outputs": [
    {
     "data": {
      "text/plain": [
       "['Sunod',\n",
       " 'Miracle in Cell No.7',\n",
       " 'Mission Unstapabol: The Don Identity',\n",
       " 'The Mall, The Merrier',\n",
       " 'Mindanao',\n",
       " '3pol Trobol: Huli Ka Balbon',\n",
       " 'Culion',\n",
       " 'Write About Love',\n",
       " nan,\n",
       " nan]"
      ]
     },
     "execution_count": 600,
     "metadata": {},
     "output_type": "execute_result"
    }
   ],
   "source": [
    "movie_title[-10:]"
   ]
  },
  {
   "cell_type": "code",
   "execution_count": 601,
   "metadata": {},
   "outputs": [],
   "source": [
    "# 2020"
   ]
  },
  {
   "cell_type": "code",
   "execution_count": 602,
   "metadata": {},
   "outputs": [],
   "source": [
    "base_twy_url = \"https://en.wikipedia.org/wiki/List_of_Philippine_films_of_2020\""
   ]
  },
  {
   "cell_type": "code",
   "execution_count": 603,
   "metadata": {},
   "outputs": [],
   "source": [
    "src = requests.get(base_twy_url, headers = {'User-Agent':'Mozilla/5.0 (X11; Linux)'})"
   ]
  },
  {
   "cell_type": "code",
   "execution_count": 604,
   "metadata": {},
   "outputs": [],
   "source": [
    "soup = BeautifulSoup(src.content, 'lxml')"
   ]
  },
  {
   "cell_type": "code",
   "execution_count": 605,
   "metadata": {},
   "outputs": [],
   "source": [
    "tab_twy = soup.find_all('table', {'class':'wikitable'})"
   ]
  },
  {
   "cell_type": "code",
   "execution_count": 606,
   "metadata": {},
   "outputs": [],
   "source": [
    "count_ = np.arange(1,5)"
   ]
  },
  {
   "cell_type": "code",
   "execution_count": 607,
   "metadata": {},
   "outputs": [],
   "source": [
    "df_s = pd.DataFrame()"
   ]
  },
  {
   "cell_type": "code",
   "execution_count": 608,
   "metadata": {},
   "outputs": [
    {
     "name": "stdout",
     "output_type": "stream",
     "text": [
      "[1 2 3 4]\n"
     ]
    }
   ],
   "source": [
    "print(count_)"
   ]
  },
  {
   "cell_type": "code",
   "execution_count": 609,
   "metadata": {},
   "outputs": [],
   "source": [
    "for i in count_:\n",
    "    tab_ = pd.read_html(str(tab_twy[i]))\n",
    "    df_ = pd.DataFrame(tab_[0])\n",
    "    #print(df_)\n",
    "    df_s = pd.concat([df_s, df_], axis = 0)"
   ]
  },
  {
   "cell_type": "code",
   "execution_count": 610,
   "metadata": {},
   "outputs": [],
   "source": [
    "twy_list = [x for x in df_s['Title']]"
   ]
  },
  {
   "cell_type": "code",
   "execution_count": 611,
   "metadata": {},
   "outputs": [],
   "source": [
    "movie_title += twy_list"
   ]
  },
  {
   "cell_type": "code",
   "execution_count": 612,
   "metadata": {},
   "outputs": [
    {
     "data": {
      "text/plain": [
       "['Coming Home',\n",
       " 'Fan Girl',\n",
       " 'Isa Pang Bahaghari',\n",
       " 'Magikland',\n",
       " 'Mang Kepweng: Ang Lihim ng Bandanang Itim',\n",
       " 'Pakboys Takusa',\n",
       " 'Suarez: The Healing Priest',\n",
       " 'Tagpuan',\n",
       " 'The Boy Foretold by the Stars',\n",
       " 'The Missing']"
      ]
     },
     "execution_count": 612,
     "metadata": {},
     "output_type": "execute_result"
    }
   ],
   "source": [
    "movie_title[-10:]"
   ]
  },
  {
   "cell_type": "code",
   "execution_count": 619,
   "metadata": {},
   "outputs": [],
   "source": [
    "# complete list of movie 2000 to 2020"
   ]
  },
  {
   "cell_type": "code",
   "execution_count": 620,
   "metadata": {},
   "outputs": [
    {
     "data": {
      "text/plain": [
       "1322"
      ]
     },
     "execution_count": 620,
     "metadata": {},
     "output_type": "execute_result"
    }
   ],
   "source": [
    "len(movie_title)"
   ]
  },
  {
   "cell_type": "code",
   "execution_count": 621,
   "metadata": {},
   "outputs": [
    {
     "data": {
      "text/plain": [
       "1305"
      ]
     },
     "execution_count": 621,
     "metadata": {},
     "output_type": "execute_result"
    }
   ],
   "source": [
    "len(set(movie_title)) # why does the number of movies became smaller? similar titles? "
   ]
  },
  {
   "cell_type": "code",
   "execution_count": null,
   "metadata": {},
   "outputs": [],
   "source": []
  }
 ],
 "metadata": {
  "kernelspec": {
   "display_name": "Python 3",
   "language": "python",
   "name": "python3"
  },
  "language_info": {
   "codemirror_mode": {
    "name": "ipython",
    "version": 3
   },
   "file_extension": ".py",
   "mimetype": "text/x-python",
   "name": "python",
   "nbconvert_exporter": "python",
   "pygments_lexer": "ipython3",
   "version": "3.8.5"
  }
 },
 "nbformat": 4,
 "nbformat_minor": 4
}
